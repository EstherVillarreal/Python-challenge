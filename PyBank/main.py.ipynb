{
 "cells": [
  {
   "cell_type": "code",
   "execution_count": 78,
   "metadata": {},
   "outputs": [],
   "source": [
    "import os\n",
    "import csv"
   ]
  },
  {
   "cell_type": "code",
   "execution_count": 79,
   "metadata": {},
   "outputs": [],
   "source": [
    "budget_data_csv = os.path.join(\"budget_data.csv\")"
   ]
  },
  {
   "cell_type": "code",
   "execution_count": 80,
   "metadata": {},
   "outputs": [],
   "source": [
    "# Open and read csv\n",
    "with open('budget_data.csv','r') as csvfile:\n",
    "    csvreader = csv.reader(csvfile, delimiter = ',')\n",
    "# Read the header row first\n",
    "    header = next(csvreader)\n",
    "#create empty lists to add the csv values to \n",
    "    month_count = []\n",
    "    profit = []\n",
    "    change_profit = []\n",
    "    total_months = 0\n",
    "#The total number of months included in the dataset\n",
    "#The net total amount of \"Profit/Losses\" over the entire period\n",
    "#The average of the changes in \"Profit/Losses\" over the entire period\n",
    "    for row in csvreader:\n",
    "        month_count.append(row[0])\n",
    "        profit.append(int(row[1]))\n",
    "        total_months+=1\n",
    "    for i in range(len(profit)-1):\n",
    "        change_profit.append(profit[i+1]-profit[i])\n",
    "#The greatest increase in profits (date and amount) over the entire period\n",
    "        increase = max(change_profit)\n",
    "        if increase == change_profit[-1]: \n",
    "            month_increase = month_count[i+1]\n",
    "#The greatest decrease in losses (date and amount) over the entire period\n",
    "        decrease = min(change_profit)\n",
    "        if decrease == change_profit[-1]: \n",
    "            month_decrease = month_count[i+1]"
   ]
  },
  {
   "cell_type": "code",
   "execution_count": 81,
   "metadata": {},
   "outputs": [
    {
     "name": "stdout",
     "output_type": "stream",
     "text": [
      "Financial Analysis\n",
      "------------------------\n",
      "Total Months:86\n",
      "Total: $38382578\n",
      "Average Change: $-2315.12\n",
      "Greatest Increase in Profits: Feb-2012 $1926159\n",
      "Greatest Decrease in Profits: Sep-2013 $-2196167\n"
     ]
    }
   ],
   "source": [
    "#Summary\n",
    "\n",
    "print(\"Financial Analysis\")\n",
    "print(\"------------------------\")\n",
    "print(f\"Total Months:{len(month_count)}\")\n",
    "print(f\"Total: ${sum(profit)}\")\n",
    "print(f\"Average Change: ${round(sum(change_profit)/len(change_profit),2)}\")\n",
    "print(f\"Greatest Increase in Profits: {month_increase} ${increase}\")\n",
    "print(f\"Greatest Decrease in Profits: {month_decrease} ${decrease}\") "
   ]
  },
  {
   "cell_type": "code",
   "execution_count": 82,
   "metadata": {},
   "outputs": [],
   "source": [
    "# Specify File To Write To\n",
    "output_file = os.path.join('.', 'main.text')\n",
    "\n",
    "# Open File Using \"Write\" Mode. Specify The Variable To Hold The Contents\n",
    "with open(output_file, 'w',) as txtfile:\n",
    "\n",
    "# Write New Data\n",
    "\n",
    "    txtfile.write(\"Financial Analysis\\n\")\n",
    "    txtfile.write(\"------------------------\\n\")\n",
    "    txtfile.write(f\"Total Months:{len(month_count)}\\n\")\n",
    "    txtfile.write(f\"Total: ${sum(profit)}\\n\")\n",
    "    txtfile.write(f\"Average Change: ${round(sum(change_profit)/len(change_profit),2)}\\n\")\n",
    "    txtfile.write(f\"Greatest Increase in Profits: {month_increase} ${increase}\\n\")\n",
    "    txtfile.write(f\"Greatest Decrease in Profits: {month_decrease} ${decrease}\\n\") "
   ]
  }
 ],
 "metadata": {
  "kernelspec": {
   "display_name": "Python 3",
   "language": "python",
   "name": "python3"
  },
  "language_info": {
   "codemirror_mode": {
    "name": "ipython",
    "version": 3
   },
   "file_extension": ".py",
   "mimetype": "text/x-python",
   "name": "python",
   "nbconvert_exporter": "python",
   "pygments_lexer": "ipython3",
   "version": "3.7.4"
  }
 },
 "nbformat": 4,
 "nbformat_minor": 2
}
