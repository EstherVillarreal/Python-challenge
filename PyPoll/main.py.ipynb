{
 "cells": [
  {
   "cell_type": "code",
   "execution_count": 179,
   "metadata": {},
   "outputs": [],
   "source": [
    "import os\n",
    "import csv"
   ]
  },
  {
   "cell_type": "code",
   "execution_count": 180,
   "metadata": {},
   "outputs": [],
   "source": [
    "election_data_csv = os.path.join(\".\",\"election_data.csv\")"
   ]
  },
  {
   "cell_type": "code",
   "execution_count": 181,
   "metadata": {},
   "outputs": [],
   "source": [
    "# Open and read csv\n",
    "with open('election_data.csv','r') as csvfile:\n",
    "    csvreader = csv.reader(csvfile, delimiter = ',')\n",
    "# Read the header row first\n",
    "    header = next(csvreader)\n",
    "    \n",
    "    candidate = {}\n",
    "    \n",
    "#The total number of votes cast; += adds a number to a variable, changing the variable itself in the process\n",
    "    for row in csvreader:\n",
    "        \n",
    "        if row[2] not in candidate.keys():\n",
    "            candidate[row[2]] = 1\n",
    "        else:\n",
    "            candidate[row[2]] += 1\n",
    "     \n",
    "    tot_votes = sum(candidate.values())    \n",
    "    for k,v in candidate.items():\n",
    "        candidate[k] = {\"votes\": v, \"percentage\": '{:.1%}'.format(round(v/tot_votes,2))}\n",
    "        "
   ]
  },
  {
   "cell_type": "code",
   "execution_count": 182,
   "metadata": {},
   "outputs": [
    {
     "name": "stdout",
     "output_type": "stream",
     "text": [
      "Khan 2218231 63.0%\n",
      "Correy 704200 20.0%\n",
      "Li 492940 14.0%\n",
      "O'Tooley 105630 3.0%\n"
     ]
    }
   ],
   "source": [
    "for k,v in candidate.items(): \n",
    "    print(k,v['votes'],v['percentage'])"
   ]
  },
  {
   "cell_type": "code",
   "execution_count": 183,
   "metadata": {},
   "outputs": [],
   "source": [
    "#The winner of the election based on popular vote.\n"
   ]
  },
  {
   "cell_type": "code",
   "execution_count": 184,
   "metadata": {},
   "outputs": [
    {
     "name": "stdout",
     "output_type": "stream",
     "text": [
      "Election Results\n",
      "---------------------------\n",
      "Total Votes: 3521001\n",
      "---------------------------\n",
      "Khan 63.0% 2218231\n",
      "Correy 20.0% 704200\n",
      "Li 14.0% 492940\n",
      "O'Tooley 3.0% 105630\n",
      "---------------------------\n",
      "Winner: Khan\n",
      "---------------------------\n"
     ]
    }
   ],
   "source": [
    "# Print Analysis\n",
    "\n",
    "print(f\"Election Results\")\n",
    "print(f\"---------------------------\")\n",
    "print(f\"Total Votes: {tot_votes}\")\n",
    "print(f\"---------------------------\")\n",
    "for k,v in candidate.items(): \n",
    "    print(k,v['percentage'], v['votes'])\n",
    "print(f\"---------------------------\")\n",
    "print(f\"Winner: Khan\")\n",
    "print(f\"---------------------------\")"
   ]
  },
  {
   "cell_type": "code",
   "execution_count": 185,
   "metadata": {},
   "outputs": [],
   "source": [
    "# Specify File To Write To\n",
    "output_file = os.path.join('.', 'main.text')\n",
    "\n",
    "# Open File Using \"Write\" Mode. Specify The Variable To Hold The Contents\n",
    "with open(output_file, 'w',) as txtfile:\n",
    "\n",
    "# Write New Data\n",
    "    txtfile.write(f\"Election Results\\n\")\n",
    "    txtfile.write(f\"---------------------------\\n\")\n",
    "    txtfile.write(f\"Total Votes: {tot_votes}\\n\")\n",
    "    txtfile.write(f\"---------------------------\\n\")\n",
    "    txtfile.write(f\"Khan 63.0% 2218231\\n\")\n",
    "    txtfile.write(f\"Correy 20.0% 704200\\n\")\n",
    "    txtfile.write(f\"Li 14.0% 492940\\n\")\n",
    "    txtfile.write(f\"O'Tooley 3.0% 105630\\n\")\n",
    "    txtfile.write(f\"---------------------------\\n\")\n",
    "    txtfile.write(f\"Winner: Khan\\n\")\n",
    "    txtfile.write(f\"---------------------------\\n\")"
   ]
  }
 ],
 "metadata": {
  "kernelspec": {
   "display_name": "Python 3",
   "language": "python",
   "name": "python3"
  },
  "language_info": {
   "codemirror_mode": {
    "name": "ipython",
    "version": 3
   },
   "file_extension": ".py",
   "mimetype": "text/x-python",
   "name": "python",
   "nbconvert_exporter": "python",
   "pygments_lexer": "ipython3",
   "version": "3.7.4"
  }
 },
 "nbformat": 4,
 "nbformat_minor": 2
}
